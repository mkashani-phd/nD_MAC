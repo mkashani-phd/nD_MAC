{
 "cells": [
  {
   "cell_type": "markdown",
   "metadata": {},
   "source": [
    "# HMAC Generator and Checker Example\n",
    "\n",
    "This notebook demonstrates how to use the `HMACGenerator` and `HMACCheck` classes to generate and verify HMACs for packets within a page. We will walk through creating packets, generating HMACs, and verifying their integrity.\n",
    "\n",
    "## Step 1: Import Required Classes\n",
    "\n",
    "Let's start by importing the necessary classes and libraries.\n"
   ]
  },
  {
   "cell_type": "code",
   "execution_count": 1,
   "metadata": {},
   "outputs": [],
   "source": [
    "import numpy as np\n",
    "import sys\n",
    "sys.path.append('../')\n",
    "from Book import Packet, Page\n",
    "from src import MACGenerator, MACChecker"
   ]
  },
  {
   "cell_type": "markdown",
   "metadata": {},
   "source": [
    "## Step 2: Create a Page with Packets\n",
    "\n",
    "We will create a `Page` object that holds multiple `Packet` instances. Each packet will have a unique message.\n"
   ]
  },
  {
   "cell_type": "code",
   "execution_count": 2,
   "metadata": {},
   "outputs": [
    {
     "name": "stdout",
     "output_type": "stream",
     "text": [
      "Packet SN: 0, Message: b'Message 1', MAC: b''\n",
      "Packet SN: 1, Message: b'Message 2', MAC: b''\n"
     ]
    }
   ],
   "source": [
    "# Initialize a sample page with packets\n",
    "page = Page(page_size=2)\n",
    "page.add_packet(Packet(SN=0, message=b\"Message 1\"))\n",
    "page.add_packet(Packet(SN=1, message=b\"Message 2\"))\n",
    "\n",
    "# Display the packets in the page\n",
    "for packet in page.packets:\n",
    "    print(f\"Packet SN: {packet.SN}, Message: {packet.message}, MAC: {packet.mac}\")\n"
   ]
  },
  {
   "cell_type": "markdown",
   "metadata": {},
   "source": [
    "## Step 3: Define Matrices X and Y\n",
    "\n",
    "We define matrices `X` and `Y` to specify how the HMACs should be generated and where they should be placed within the packets.\n"
   ]
  },
  {
   "cell_type": "code",
   "execution_count": 3,
   "metadata": {},
   "outputs": [
    {
     "name": "stdout",
     "output_type": "stream",
     "text": [
      "Matrix X:\n",
      " [[1 1]\n",
      " [0 1]]\n",
      "Matrix Y:\n",
      " [[0 1]\n",
      " [1 0]]\n"
     ]
    }
   ],
   "source": [
    "# Example matrices X and Y\n",
    "X = np.array([[1, 1],  # t1 uses messages from p1 and p2\n",
    "              [0, 1]], dtype=int)  # t2 uses message from p2 only\n",
    "\n",
    "Y = np.array([[0, 1],  # t1 is placed in p2's MAC\n",
    "              [1, 0]], dtype=int)  # t2 is placed in p1's MAC\n",
    "\n",
    "# Display matrices X and Y\n",
    "print(\"Matrix X:\\n\", X)\n",
    "print(\"Matrix Y:\\n\", Y)"
   ]
  },
  {
   "cell_type": "markdown",
   "metadata": {},
   "source": [
    "## Step 4: Generate HMACs for the Packets\n",
    "\n",
    "Using the `HMACGenerator`, we will generate HMACs for the packets based on the matrices `X` and `Y`.\n"
   ]
  },
  {
   "cell_type": "code",
   "execution_count": 4,
   "metadata": {},
   "outputs": [
    {
     "name": "stdout",
     "output_type": "stream",
     "text": [
      "Packet SN: 0, Message: b'Message 1', MAC: b'k\\xe80\\x92\\xbd9d\\xb8\\xb2\\x03N\\xc9\\n\\x84\\xbb\\x02D\\xd6\\x83+mX\\xbe8T`9\\xfe\\xb2s/\\x84'\n",
      "Packet SN: 1, Message: b'Message 2', MAC: b'\\xc3\\xd2\\xbe\\x83\\x0fpq\\xba\\x04\\xb4\\x12)\\xff\\xf7\\xaab\\x7f\\xbf[-\\x8e\\x1a\\x1d\\x00\\xa3\\x17\\xc7\\xdbNP\\x1c&'\n"
     ]
    }
   ],
   "source": [
    "# Initialize the HMAC generator with a secret key\n",
    "hmac_generator = MACGenerator(X = X, Y = Y, secret_key=b'secret')\n",
    "\n",
    "# Apply HMACs to the page\n",
    "hmac_generator.process_page(page)\n",
    "\n",
    "# Display the packets after applying HMACs\n",
    "for packet in page.packets:\n",
    "    print(f\"Packet SN: {packet.SN}, Message: {packet.message}, MAC: {packet.mac}\")"
   ]
  },
  {
   "cell_type": "markdown",
   "metadata": {},
   "source": [
    "## Step 5: Verify the HMACs\n",
    "\n",
    "Now, we will use the `HMACCheck` class to verify that the HMACs in the packets are correct.\n"
   ]
  },
  {
   "cell_type": "code",
   "execution_count": 5,
   "metadata": {},
   "outputs": [
    {
     "name": "stdout",
     "output_type": "stream",
     "text": [
      "Are all HMACs valid? (b'Message 1Message 2', array([2, 1]), array([0.01312399, 0.01309943]))\n"
     ]
    }
   ],
   "source": [
    "# Initialize the HMAC checker with the same secret key\n",
    "hmac_checker = MACChecker(X= X, Y = Y, secret_key=b'secret')\n",
    "\n",
    "# Check if the HMACs in the page are valid\n",
    "is_valid = hmac_checker.check_page(page)\n",
    "\n",
    "print(f\"Are all HMACs valid? {is_valid}\")\n"
   ]
  },
  {
   "cell_type": "markdown",
   "metadata": {},
   "source": [
    "## Step 6: Test HMAC Verification with a Tampered Packet\n",
    "\n",
    "We will manually tamper with one of the packet's MACs to simulate an integrity breach and verify that the HMACCheck class detects the issue.\n"
   ]
  },
  {
   "cell_type": "code",
   "execution_count": 6,
   "metadata": {},
   "outputs": [
    {
     "name": "stdout",
     "output_type": "stream",
     "text": [
      "Are all HMACs valid after tampering? (b'Message 1', array([1, 0]), array([0.01738739, 0.01736283]))\n"
     ]
    }
   ],
   "source": [
    "# Tamper with one of the MACs to simulate an invalid HMAC\n",
    "page.packets[0].mac = b'Invalid MAC'\n",
    "# Check if the HMACs in the page are still valid\n",
    "is_valid_after_tampering = hmac_checker.check_page(page)\n",
    "\n",
    "print(f\"Are all HMACs valid after tampering? {is_valid_after_tampering}\")"
   ]
  },
  {
   "cell_type": "markdown",
   "metadata": {},
   "source": [
    "## Summary\n",
    "\n",
    "In this notebook, we demonstrated how to:\n",
    "- Create packets and store them in a page.\n",
    "- Generate HMACs for the packets based on specified matrices.\n",
    "- Verify the HMACs to ensure the integrity of the packets.\n",
    "- Detect tampering by checking HMAC validity after altering a packet.\n",
    "\n",
    "This process is crucial in ensuring data integrity when transmitting data over untrusted networks.\n"
   ]
  }
 ],
 "metadata": {
  "kernelspec": {
   "display_name": "Python 3",
   "language": "python",
   "name": "python3"
  },
  "language_info": {
   "codemirror_mode": {
    "name": "ipython",
    "version": 3
   },
   "file_extension": ".py",
   "mimetype": "text/x-python",
   "name": "python",
   "nbconvert_exporter": "python",
   "pygments_lexer": "ipython3",
   "version": "3.12.3"
  }
 },
 "nbformat": 4,
 "nbformat_minor": 2
}
